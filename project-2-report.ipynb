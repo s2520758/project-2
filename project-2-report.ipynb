{
 "cells": [
  {
   "cell_type": "markdown",
   "metadata": {},
   "source": [
    "# Project 2 report"
   ]
  },
  {
   "cell_type": "markdown",
   "metadata": {},
   "source": [
    "This comprehensive report aims to conduct a thorough investigation into three crucial aspects of the asthma disease. This report will primarily focus on the cities in Scotland with the highest population, namely Edinburgh, Aberdeen, and Dundee [1]. Reportedly, there has been a surge in respiratory diseases after the COVID-19 pandemic [2]. To analyse the after-effects of COVID-19 on respiratory health, the scope of this report is limited to data from 2019-2022.\n",
    "\n",
    "Firstly, we will be examining which city, Edinburgh, Aberdeen, and Dundee, has the highest number of asthma patients. This analysis will help us gain valuable insights into the prevalence of asthma in these areas. Additionally, we will conduct an analysis to determine the age group that is most impacted by asthma. Finally, the report will explore the gender-based analysis of asthma prevalence, specifically comparing male and female populations. The goal is to identify any noteworthy variations in asthma disease between genders.\n"
   ]
  },
  {
   "cell_type": "markdown",
   "metadata": {},
   "source": [
    "This report will make use of a range of Python libraries, including Pandas, Matplotlib, Seaborn, Numpy, and Plotly express [3]."
   ]
  },
  {
   "cell_type": "code",
   "metadata": {
    "ExecuteTime": {
     "end_time": "2024-08-23T10:19:31.485797Z",
     "start_time": "2024-08-23T10:19:31.305283Z"
    }
   },
   "source": [
    "# import packages\n",
    "import pandas as pd\n",
    "import matplotlib.pyplot as plt\n",
    "import seaborn as sns\n",
    "import numpy as np\n",
    "import plotly.express as px"
   ],
   "outputs": [],
   "execution_count": 1
  },
  {
   "cell_type": "markdown",
   "metadata": {},
   "source": [
    "Throughout our analysis, we will carefully extract and concentrate on data from the disease prevalance dataset that pertains to GP Practice or areas, with a specific focus on Edinburgh, Dundee, and Aberdeen. Additionally, data extraction will be limited to the years 2019 through 2022. Following this, we will utilise the Seaborn library to create a comparison of total asthma patients between those cities."
   ]
  },
  {
   "cell_type": "code",
   "metadata": {
    "ExecuteTime": {
     "end_time": "2024-08-23T10:19:32.726551Z",
     "start_time": "2024-08-23T10:19:31.487810Z"
    }
   },
   "source": [
    "\"\"\"\n",
    "To explore the situation of asthma patients in three cities,\n",
    "data is first imported, and then the number of patients is counted based on the region.\n",
    "Finally, plot the total number of patients based on the region\n",
    "\"\"\"\n",
    "\n",
    "# load data \n",
    "asthma_age = pd.read_csv('diseaseprevalence.csv',encoding='utf',usecols=['GPPractice/Area','Year','Age','PatientCount_Asthma'])\n",
    "# delete the row with 'all'\n",
    "asthma_age = asthma_age[asthma_age['Age'] != 'All']\n",
    "# define the age order\n",
    "age_order = ['00-04', '05-09', '10-14', '15-19', '20-24', '25-29', '30-34', '35-39', '40-44', '45-49', '50-54', '55-59', '60-64', '65-69', '70-74', '75-79', '80-84', '85plus']\n",
    "# narrow year to '2019-2022'\n",
    "asthma_age=asthma_age[asthma_age['Year'] .isin([2019,2020,2021,2022])]\n",
    "\n",
    "# extract regions containing edinburgh, dundee, aberdeen using regular expressions and rename them all\n",
    "asthma_age = asthma_age[asthma_age['GPPractice/Area'].str.contains(\"Edinburgh|Dundee|Aberdeen\")]\n",
    "asthma_age['GPPractice/Area'] = asthma_age['GPPractice/Area'].str.replace('.*Edinburgh.*', 'Edinburgh',  regex=True)\n",
    "asthma_age['GPPractice/Area'] = asthma_age['GPPractice/Area'].str.replace('.*Aberdeen.*', 'Aberdeen',  regex=True)\n",
    "asthma_age['GPPractice/Area'] = asthma_age['GPPractice/Area'].str.replace('.*Dundee.*', 'Dundee',  regex=True)\n",
    "# counting the number of patients by region\n",
    "city_group = asthma_age.groupby('GPPractice/Area')['PatientCount_Asthma'].sum().reset_index()\n",
    "# counting the number of patients by age\n",
    "age_group = asthma_age.groupby(['GPPractice/Area', 'Age'])['PatientCount_Asthma'].sum().reset_index()\n",
    "\n",
    "# plot according to age groups  with warm color\n",
    "plt.figure(figsize=(10, 6))\n",
    "grid = sns.barplot(data=city_group,          \n",
    "                   x='GPPractice/Area',       # the x-axis\n",
    "                   y='PatientCount_Asthma',   \n",
    "                   hue='GPPractice/Area',\n",
    "                   palette='YlOrRd')\n",
    "\n",
    "# add title and labels                                     \n",
    "plt.title('Patients of Asthma in 3 specific areas') \n",
    "plt.xlabel('GPPractice/Area')\n",
    "plt.ylabel('PatientCount_Asthma') \n",
    "grid.set_xticks(range(len(city_group['GPPractice/Area'])))\n",
    "\n",
    "# rotate the  labels so we can read them all\n",
    "grid.set_xticklabels(city_group['GPPractice/Area'], rotation=0, verticalalignment='top')\n",
    "plt.show()"
   ],
   "outputs": [
    {
     "ename": "FileNotFoundError",
     "evalue": "[Errno 2] No such file or directory: 'diseaseprevalence.csv'",
     "output_type": "error",
     "traceback": [
      "\u001B[1;31m---------------------------------------------------------------------------\u001B[0m",
      "\u001B[1;31mFileNotFoundError\u001B[0m                         Traceback (most recent call last)",
      "Cell \u001B[1;32mIn[2], line 8\u001B[0m\n\u001B[0;32m      1\u001B[0m \u001B[38;5;124;03m\"\"\"\u001B[39;00m\n\u001B[0;32m      2\u001B[0m \u001B[38;5;124;03mTo explore the situation of asthma patients in three cities,\u001B[39;00m\n\u001B[0;32m      3\u001B[0m \u001B[38;5;124;03mdata is first imported, and then the number of patients is counted based on the region.\u001B[39;00m\n\u001B[0;32m      4\u001B[0m \u001B[38;5;124;03mFinally, plot the total number of patients based on the region\u001B[39;00m\n\u001B[0;32m      5\u001B[0m \u001B[38;5;124;03m\"\"\"\u001B[39;00m\n\u001B[0;32m      7\u001B[0m \u001B[38;5;66;03m# load data \u001B[39;00m\n\u001B[1;32m----> 8\u001B[0m asthma_age \u001B[38;5;241m=\u001B[39m \u001B[43mpd\u001B[49m\u001B[38;5;241;43m.\u001B[39;49m\u001B[43mread_csv\u001B[49m\u001B[43m(\u001B[49m\u001B[38;5;124;43m'\u001B[39;49m\u001B[38;5;124;43mdiseaseprevalence.csv\u001B[39;49m\u001B[38;5;124;43m'\u001B[39;49m\u001B[43m,\u001B[49m\u001B[43mencoding\u001B[49m\u001B[38;5;241;43m=\u001B[39;49m\u001B[38;5;124;43m'\u001B[39;49m\u001B[38;5;124;43mutf\u001B[39;49m\u001B[38;5;124;43m'\u001B[39;49m\u001B[43m,\u001B[49m\u001B[43musecols\u001B[49m\u001B[38;5;241;43m=\u001B[39;49m\u001B[43m[\u001B[49m\u001B[38;5;124;43m'\u001B[39;49m\u001B[38;5;124;43mGPPractice/Area\u001B[39;49m\u001B[38;5;124;43m'\u001B[39;49m\u001B[43m,\u001B[49m\u001B[38;5;124;43m'\u001B[39;49m\u001B[38;5;124;43mYear\u001B[39;49m\u001B[38;5;124;43m'\u001B[39;49m\u001B[43m,\u001B[49m\u001B[38;5;124;43m'\u001B[39;49m\u001B[38;5;124;43mAge\u001B[39;49m\u001B[38;5;124;43m'\u001B[39;49m\u001B[43m,\u001B[49m\u001B[38;5;124;43m'\u001B[39;49m\u001B[38;5;124;43mPatientCount_Asthma\u001B[39;49m\u001B[38;5;124;43m'\u001B[39;49m\u001B[43m]\u001B[49m\u001B[43m)\u001B[49m\n\u001B[0;32m      9\u001B[0m \u001B[38;5;66;03m# delete the row with 'all'\u001B[39;00m\n\u001B[0;32m     10\u001B[0m asthma_age \u001B[38;5;241m=\u001B[39m asthma_age[asthma_age[\u001B[38;5;124m'\u001B[39m\u001B[38;5;124mAge\u001B[39m\u001B[38;5;124m'\u001B[39m] \u001B[38;5;241m!=\u001B[39m \u001B[38;5;124m'\u001B[39m\u001B[38;5;124mAll\u001B[39m\u001B[38;5;124m'\u001B[39m]\n",
      "File \u001B[1;32m~\\PycharmProjects\\pythonProject\\.venv\\Lib\\site-packages\\pandas\\io\\parsers\\readers.py:1026\u001B[0m, in \u001B[0;36mread_csv\u001B[1;34m(filepath_or_buffer, sep, delimiter, header, names, index_col, usecols, dtype, engine, converters, true_values, false_values, skipinitialspace, skiprows, skipfooter, nrows, na_values, keep_default_na, na_filter, verbose, skip_blank_lines, parse_dates, infer_datetime_format, keep_date_col, date_parser, date_format, dayfirst, cache_dates, iterator, chunksize, compression, thousands, decimal, lineterminator, quotechar, quoting, doublequote, escapechar, comment, encoding, encoding_errors, dialect, on_bad_lines, delim_whitespace, low_memory, memory_map, float_precision, storage_options, dtype_backend)\u001B[0m\n\u001B[0;32m   1013\u001B[0m kwds_defaults \u001B[38;5;241m=\u001B[39m _refine_defaults_read(\n\u001B[0;32m   1014\u001B[0m     dialect,\n\u001B[0;32m   1015\u001B[0m     delimiter,\n\u001B[1;32m   (...)\u001B[0m\n\u001B[0;32m   1022\u001B[0m     dtype_backend\u001B[38;5;241m=\u001B[39mdtype_backend,\n\u001B[0;32m   1023\u001B[0m )\n\u001B[0;32m   1024\u001B[0m kwds\u001B[38;5;241m.\u001B[39mupdate(kwds_defaults)\n\u001B[1;32m-> 1026\u001B[0m \u001B[38;5;28;01mreturn\u001B[39;00m \u001B[43m_read\u001B[49m\u001B[43m(\u001B[49m\u001B[43mfilepath_or_buffer\u001B[49m\u001B[43m,\u001B[49m\u001B[43m \u001B[49m\u001B[43mkwds\u001B[49m\u001B[43m)\u001B[49m\n",
      "File \u001B[1;32m~\\PycharmProjects\\pythonProject\\.venv\\Lib\\site-packages\\pandas\\io\\parsers\\readers.py:620\u001B[0m, in \u001B[0;36m_read\u001B[1;34m(filepath_or_buffer, kwds)\u001B[0m\n\u001B[0;32m    617\u001B[0m _validate_names(kwds\u001B[38;5;241m.\u001B[39mget(\u001B[38;5;124m\"\u001B[39m\u001B[38;5;124mnames\u001B[39m\u001B[38;5;124m\"\u001B[39m, \u001B[38;5;28;01mNone\u001B[39;00m))\n\u001B[0;32m    619\u001B[0m \u001B[38;5;66;03m# Create the parser.\u001B[39;00m\n\u001B[1;32m--> 620\u001B[0m parser \u001B[38;5;241m=\u001B[39m \u001B[43mTextFileReader\u001B[49m\u001B[43m(\u001B[49m\u001B[43mfilepath_or_buffer\u001B[49m\u001B[43m,\u001B[49m\u001B[43m \u001B[49m\u001B[38;5;241;43m*\u001B[39;49m\u001B[38;5;241;43m*\u001B[39;49m\u001B[43mkwds\u001B[49m\u001B[43m)\u001B[49m\n\u001B[0;32m    622\u001B[0m \u001B[38;5;28;01mif\u001B[39;00m chunksize \u001B[38;5;129;01mor\u001B[39;00m iterator:\n\u001B[0;32m    623\u001B[0m     \u001B[38;5;28;01mreturn\u001B[39;00m parser\n",
      "File \u001B[1;32m~\\PycharmProjects\\pythonProject\\.venv\\Lib\\site-packages\\pandas\\io\\parsers\\readers.py:1620\u001B[0m, in \u001B[0;36mTextFileReader.__init__\u001B[1;34m(self, f, engine, **kwds)\u001B[0m\n\u001B[0;32m   1617\u001B[0m     \u001B[38;5;28mself\u001B[39m\u001B[38;5;241m.\u001B[39moptions[\u001B[38;5;124m\"\u001B[39m\u001B[38;5;124mhas_index_names\u001B[39m\u001B[38;5;124m\"\u001B[39m] \u001B[38;5;241m=\u001B[39m kwds[\u001B[38;5;124m\"\u001B[39m\u001B[38;5;124mhas_index_names\u001B[39m\u001B[38;5;124m\"\u001B[39m]\n\u001B[0;32m   1619\u001B[0m \u001B[38;5;28mself\u001B[39m\u001B[38;5;241m.\u001B[39mhandles: IOHandles \u001B[38;5;241m|\u001B[39m \u001B[38;5;28;01mNone\u001B[39;00m \u001B[38;5;241m=\u001B[39m \u001B[38;5;28;01mNone\u001B[39;00m\n\u001B[1;32m-> 1620\u001B[0m \u001B[38;5;28mself\u001B[39m\u001B[38;5;241m.\u001B[39m_engine \u001B[38;5;241m=\u001B[39m \u001B[38;5;28;43mself\u001B[39;49m\u001B[38;5;241;43m.\u001B[39;49m\u001B[43m_make_engine\u001B[49m\u001B[43m(\u001B[49m\u001B[43mf\u001B[49m\u001B[43m,\u001B[49m\u001B[43m \u001B[49m\u001B[38;5;28;43mself\u001B[39;49m\u001B[38;5;241;43m.\u001B[39;49m\u001B[43mengine\u001B[49m\u001B[43m)\u001B[49m\n",
      "File \u001B[1;32m~\\PycharmProjects\\pythonProject\\.venv\\Lib\\site-packages\\pandas\\io\\parsers\\readers.py:1880\u001B[0m, in \u001B[0;36mTextFileReader._make_engine\u001B[1;34m(self, f, engine)\u001B[0m\n\u001B[0;32m   1878\u001B[0m     \u001B[38;5;28;01mif\u001B[39;00m \u001B[38;5;124m\"\u001B[39m\u001B[38;5;124mb\u001B[39m\u001B[38;5;124m\"\u001B[39m \u001B[38;5;129;01mnot\u001B[39;00m \u001B[38;5;129;01min\u001B[39;00m mode:\n\u001B[0;32m   1879\u001B[0m         mode \u001B[38;5;241m+\u001B[39m\u001B[38;5;241m=\u001B[39m \u001B[38;5;124m\"\u001B[39m\u001B[38;5;124mb\u001B[39m\u001B[38;5;124m\"\u001B[39m\n\u001B[1;32m-> 1880\u001B[0m \u001B[38;5;28mself\u001B[39m\u001B[38;5;241m.\u001B[39mhandles \u001B[38;5;241m=\u001B[39m \u001B[43mget_handle\u001B[49m\u001B[43m(\u001B[49m\n\u001B[0;32m   1881\u001B[0m \u001B[43m    \u001B[49m\u001B[43mf\u001B[49m\u001B[43m,\u001B[49m\n\u001B[0;32m   1882\u001B[0m \u001B[43m    \u001B[49m\u001B[43mmode\u001B[49m\u001B[43m,\u001B[49m\n\u001B[0;32m   1883\u001B[0m \u001B[43m    \u001B[49m\u001B[43mencoding\u001B[49m\u001B[38;5;241;43m=\u001B[39;49m\u001B[38;5;28;43mself\u001B[39;49m\u001B[38;5;241;43m.\u001B[39;49m\u001B[43moptions\u001B[49m\u001B[38;5;241;43m.\u001B[39;49m\u001B[43mget\u001B[49m\u001B[43m(\u001B[49m\u001B[38;5;124;43m\"\u001B[39;49m\u001B[38;5;124;43mencoding\u001B[39;49m\u001B[38;5;124;43m\"\u001B[39;49m\u001B[43m,\u001B[49m\u001B[43m \u001B[49m\u001B[38;5;28;43;01mNone\u001B[39;49;00m\u001B[43m)\u001B[49m\u001B[43m,\u001B[49m\n\u001B[0;32m   1884\u001B[0m \u001B[43m    \u001B[49m\u001B[43mcompression\u001B[49m\u001B[38;5;241;43m=\u001B[39;49m\u001B[38;5;28;43mself\u001B[39;49m\u001B[38;5;241;43m.\u001B[39;49m\u001B[43moptions\u001B[49m\u001B[38;5;241;43m.\u001B[39;49m\u001B[43mget\u001B[49m\u001B[43m(\u001B[49m\u001B[38;5;124;43m\"\u001B[39;49m\u001B[38;5;124;43mcompression\u001B[39;49m\u001B[38;5;124;43m\"\u001B[39;49m\u001B[43m,\u001B[49m\u001B[43m \u001B[49m\u001B[38;5;28;43;01mNone\u001B[39;49;00m\u001B[43m)\u001B[49m\u001B[43m,\u001B[49m\n\u001B[0;32m   1885\u001B[0m \u001B[43m    \u001B[49m\u001B[43mmemory_map\u001B[49m\u001B[38;5;241;43m=\u001B[39;49m\u001B[38;5;28;43mself\u001B[39;49m\u001B[38;5;241;43m.\u001B[39;49m\u001B[43moptions\u001B[49m\u001B[38;5;241;43m.\u001B[39;49m\u001B[43mget\u001B[49m\u001B[43m(\u001B[49m\u001B[38;5;124;43m\"\u001B[39;49m\u001B[38;5;124;43mmemory_map\u001B[39;49m\u001B[38;5;124;43m\"\u001B[39;49m\u001B[43m,\u001B[49m\u001B[43m \u001B[49m\u001B[38;5;28;43;01mFalse\u001B[39;49;00m\u001B[43m)\u001B[49m\u001B[43m,\u001B[49m\n\u001B[0;32m   1886\u001B[0m \u001B[43m    \u001B[49m\u001B[43mis_text\u001B[49m\u001B[38;5;241;43m=\u001B[39;49m\u001B[43mis_text\u001B[49m\u001B[43m,\u001B[49m\n\u001B[0;32m   1887\u001B[0m \u001B[43m    \u001B[49m\u001B[43merrors\u001B[49m\u001B[38;5;241;43m=\u001B[39;49m\u001B[38;5;28;43mself\u001B[39;49m\u001B[38;5;241;43m.\u001B[39;49m\u001B[43moptions\u001B[49m\u001B[38;5;241;43m.\u001B[39;49m\u001B[43mget\u001B[49m\u001B[43m(\u001B[49m\u001B[38;5;124;43m\"\u001B[39;49m\u001B[38;5;124;43mencoding_errors\u001B[39;49m\u001B[38;5;124;43m\"\u001B[39;49m\u001B[43m,\u001B[49m\u001B[43m \u001B[49m\u001B[38;5;124;43m\"\u001B[39;49m\u001B[38;5;124;43mstrict\u001B[39;49m\u001B[38;5;124;43m\"\u001B[39;49m\u001B[43m)\u001B[49m\u001B[43m,\u001B[49m\n\u001B[0;32m   1888\u001B[0m \u001B[43m    \u001B[49m\u001B[43mstorage_options\u001B[49m\u001B[38;5;241;43m=\u001B[39;49m\u001B[38;5;28;43mself\u001B[39;49m\u001B[38;5;241;43m.\u001B[39;49m\u001B[43moptions\u001B[49m\u001B[38;5;241;43m.\u001B[39;49m\u001B[43mget\u001B[49m\u001B[43m(\u001B[49m\u001B[38;5;124;43m\"\u001B[39;49m\u001B[38;5;124;43mstorage_options\u001B[39;49m\u001B[38;5;124;43m\"\u001B[39;49m\u001B[43m,\u001B[49m\u001B[43m \u001B[49m\u001B[38;5;28;43;01mNone\u001B[39;49;00m\u001B[43m)\u001B[49m\u001B[43m,\u001B[49m\n\u001B[0;32m   1889\u001B[0m \u001B[43m\u001B[49m\u001B[43m)\u001B[49m\n\u001B[0;32m   1890\u001B[0m \u001B[38;5;28;01massert\u001B[39;00m \u001B[38;5;28mself\u001B[39m\u001B[38;5;241m.\u001B[39mhandles \u001B[38;5;129;01mis\u001B[39;00m \u001B[38;5;129;01mnot\u001B[39;00m \u001B[38;5;28;01mNone\u001B[39;00m\n\u001B[0;32m   1891\u001B[0m f \u001B[38;5;241m=\u001B[39m \u001B[38;5;28mself\u001B[39m\u001B[38;5;241m.\u001B[39mhandles\u001B[38;5;241m.\u001B[39mhandle\n",
      "File \u001B[1;32m~\\PycharmProjects\\pythonProject\\.venv\\Lib\\site-packages\\pandas\\io\\common.py:873\u001B[0m, in \u001B[0;36mget_handle\u001B[1;34m(path_or_buf, mode, encoding, compression, memory_map, is_text, errors, storage_options)\u001B[0m\n\u001B[0;32m    868\u001B[0m \u001B[38;5;28;01melif\u001B[39;00m \u001B[38;5;28misinstance\u001B[39m(handle, \u001B[38;5;28mstr\u001B[39m):\n\u001B[0;32m    869\u001B[0m     \u001B[38;5;66;03m# Check whether the filename is to be opened in binary mode.\u001B[39;00m\n\u001B[0;32m    870\u001B[0m     \u001B[38;5;66;03m# Binary mode does not support 'encoding' and 'newline'.\u001B[39;00m\n\u001B[0;32m    871\u001B[0m     \u001B[38;5;28;01mif\u001B[39;00m ioargs\u001B[38;5;241m.\u001B[39mencoding \u001B[38;5;129;01mand\u001B[39;00m \u001B[38;5;124m\"\u001B[39m\u001B[38;5;124mb\u001B[39m\u001B[38;5;124m\"\u001B[39m \u001B[38;5;129;01mnot\u001B[39;00m \u001B[38;5;129;01min\u001B[39;00m ioargs\u001B[38;5;241m.\u001B[39mmode:\n\u001B[0;32m    872\u001B[0m         \u001B[38;5;66;03m# Encoding\u001B[39;00m\n\u001B[1;32m--> 873\u001B[0m         handle \u001B[38;5;241m=\u001B[39m \u001B[38;5;28;43mopen\u001B[39;49m\u001B[43m(\u001B[49m\n\u001B[0;32m    874\u001B[0m \u001B[43m            \u001B[49m\u001B[43mhandle\u001B[49m\u001B[43m,\u001B[49m\n\u001B[0;32m    875\u001B[0m \u001B[43m            \u001B[49m\u001B[43mioargs\u001B[49m\u001B[38;5;241;43m.\u001B[39;49m\u001B[43mmode\u001B[49m\u001B[43m,\u001B[49m\n\u001B[0;32m    876\u001B[0m \u001B[43m            \u001B[49m\u001B[43mencoding\u001B[49m\u001B[38;5;241;43m=\u001B[39;49m\u001B[43mioargs\u001B[49m\u001B[38;5;241;43m.\u001B[39;49m\u001B[43mencoding\u001B[49m\u001B[43m,\u001B[49m\n\u001B[0;32m    877\u001B[0m \u001B[43m            \u001B[49m\u001B[43merrors\u001B[49m\u001B[38;5;241;43m=\u001B[39;49m\u001B[43merrors\u001B[49m\u001B[43m,\u001B[49m\n\u001B[0;32m    878\u001B[0m \u001B[43m            \u001B[49m\u001B[43mnewline\u001B[49m\u001B[38;5;241;43m=\u001B[39;49m\u001B[38;5;124;43m\"\u001B[39;49m\u001B[38;5;124;43m\"\u001B[39;49m\u001B[43m,\u001B[49m\n\u001B[0;32m    879\u001B[0m \u001B[43m        \u001B[49m\u001B[43m)\u001B[49m\n\u001B[0;32m    880\u001B[0m     \u001B[38;5;28;01melse\u001B[39;00m:\n\u001B[0;32m    881\u001B[0m         \u001B[38;5;66;03m# Binary mode\u001B[39;00m\n\u001B[0;32m    882\u001B[0m         handle \u001B[38;5;241m=\u001B[39m \u001B[38;5;28mopen\u001B[39m(handle, ioargs\u001B[38;5;241m.\u001B[39mmode)\n",
      "\u001B[1;31mFileNotFoundError\u001B[0m: [Errno 2] No such file or directory: 'diseaseprevalence.csv'"
     ]
    }
   ],
   "execution_count": 2
  },
  {
   "cell_type": "markdown",
   "metadata": {},
   "source": [
    "This bar chart compares whether there are differences in asthma among three major cities in Scotland. The horizontal axis represents the city, and the vertical axis represents the number of asthma patients. We found that in the four years 2019 to 2022, Edinburgh has the highest number of asthma patients, followed by Aberdeen, and Dundee has the lowest number. Based on the bar chart, it is reasonable to speculate that urban environments could have a substantial impact on the prevalence of asthma. Supporting this hypothesis is the observation that the population size exhibits a consistent trend, with Edinburgh having the highest population, followed by Aberdeen and then Dundee. This observation indicate that demographic factors, which may be related to urbanisation could be influencing the different rates of asthma in these regions."
   ]
  },
  {
   "cell_type": "markdown",
   "metadata": {},
   "source": [
    "The following objective is to investigate the age group of asthma patients in each city further after we found that Edinburgh has the higher number of asthma patients. The aim is to find out if the age group that is most affected by asthma is the same in all three cities (Edinburgh, Aberdeen, and Dundee) or if there are different patterns by age group in asthma prevalence in each city."
   ]
  },
  {
   "cell_type": "code",
   "metadata": {},
   "source": [
    "\"\"\"\n",
    "To explore Patients infected with asthma of different age groups in 3 specific areas,\n",
    "use a loop to plot in each area the number of different age groups\n",
    "\"\"\"\n",
    "# use a loop to plot in each area the number of different age groups\n",
    "plt.figure(figsize=(10, 6))\n",
    "for area in age_group['GPPractice/Area'].unique():         \n",
    "    plt.plot(age_group[age_group['GPPractice/Area'] ==area ]['Age'],age_group[age_group['GPPractice/Area'] ==area ]['PatientCount_Asthma'], marker='o', label=area)\n",
    "    \n",
    "# add labels and title\n",
    "plt.title('Patients infected with asthma of different age groups in 3 specific areas')\n",
    "plt.xlabel('Age group')\n",
    "plt.ylabel('Number of Asthma Patients')\n",
    "plt.xticks(rotation=45,verticalalignment='top')\n",
    "\n",
    "# add legend and grids\n",
    "plt.legend(title='Area')\n",
    "plt.grid(True)\n",
    "\n",
    "# show the plot\n",
    "plt.show()"
   ],
   "outputs": [],
   "execution_count": null
  },
  {
   "cell_type": "markdown",
   "metadata": {},
   "source": [
    "The above line indicates the relationship between the number of asthma patients in different age groups in the three major cities. The horizontal axis represents the age group of patients, and the vertical axis represents the number of patients. In our observations, we have noticed that the prevalence of asthma differs across cities, but there are commonalities in the age groups affected by this condition. The number of patients in the three major cities of the youth (00-19) and elderly (75-85 plus) is relatively low, and the number of patients increases with age in the youth and decreases with age in the elderly. In all three major cities, there is a significant number of patients between the ages of 50 and 59. It appears that asthma may be influenced by age, suggesting a potential correlation between the two."
   ]
  },
  {
   "cell_type": "markdown",
   "metadata": {},
   "source": [
    "After carefully analysing the extensive data of asthma patients in three cities, we concluded that it is necessary to normalise the number of asthma patients based on the total number of patients in three cities. Normalising the data allows for a better understanding, as the disease can be studied more holistically across the three cities. Additionally, this will provide a more comprehensive view of the age groups that are the most disproportionately impacted across Edinburgh, Aberdeen, and Dundee. For a more balanced viewpoint, we also decided to expand the age gap from 5 to 10. As an example, the age groups will be updated to include a broader range, from 00-09, rather than previous breakdown of 00-04 and 05-09. In addition, we will create a new age group of 70+ by combining the age range of 70 to 85 plus."
   ]
  },
  {
   "cell_type": "code",
   "metadata": {},
   "source": [
    "# change the age group to a wider age range\n",
    "new_age_range = {'00-04' : '00-09','05-09' : '00-09',\n",
    "                 '10-14' : '10-19','15-19' : '10-19',\n",
    "                 '20-24' : '20-29','25-29' : '20-29',\n",
    "                 '30-34' : '30-39','35-39' : '30-39',\n",
    "                 '40-44' : '40-49','45-49' : '40-49',\n",
    "                 '50-54' : '50-59','55-59' : '50-59',\n",
    "                 '60-64' : '60-69','65-69' : '60-69',\n",
    "                 '70-74' : '70+','75-79' : '70+',\n",
    "                 '80-84' : '70+','85plus' : '70+'}\n",
    "age_group['Age_range'] = age_group['Age'].replace(new_age_range)\n",
    "\n",
    "# new table with the new age range\n",
    "new_asthma = age_group.groupby(['GPPractice/Area', 'Age_range'])['PatientCount_Asthma'].sum().reset_index()\n",
    "\n",
    "# next step: normalisation\n",
    "# normalisation = number of people in a each age group / total number of patients in 3 regions\n",
    "# by doing this normalisation, this will help in understanding the distribution of patients\n",
    "\n",
    "# sum all the asthma patients in 3 regions (from the city_group)\n",
    "total_asthma = city_group['PatientCount_Asthma'].sum()\n",
    "\n",
    "# normalise the number of people in each age group by the total patients\n",
    "new_asthma['Normalized age group (%)'] = (new_asthma['PatientCount_Asthma'] / total_asthma) * 100 \n",
    "\n",
    "# next step: turn into a stacked bar chart\n",
    "# plotting stack bar chart for the normalized group (interactive)\n",
    "bar_chart = px.bar(new_asthma, x='GPPractice/Area', y='Normalized age group (%)',\n",
    "                   color='Age_range', range_y = [0,65],\n",
    "                   labels={'Normalized age group (%)' : 'Total Asthma Patients (%)', 'GPPractice/Area' : 'Top 3 Cities'},\n",
    "                   title = 'Asthma Patients (%) for each age group in the top 3 cities (2019-2022)')\n",
    "\n",
    "# adjust the y-axis increment by 5\n",
    "bar_chart.update_layout(yaxis_dtick=5)\n",
    "bar_chart.show()"
   ],
   "outputs": [],
   "execution_count": null
  },
  {
   "cell_type": "markdown",
   "metadata": {},
   "source": [
    "The stacked bar chart displays the percentage of patients after normalisation, with each stack representing a different age group. The horizontal axis displays the three cities, while the y-axis represents the percentage of asthma patients. Following the normalisation process, the results align with the previous line chart, indicating that the age group of 50-59 exhibits the highest number of asthma patients in those three cities. Based on the normalised data shown in the stacked bar chart, it is evident that the 50-59 age group in Edinburgh has the highest percentage (10.72%) of asthma patients among the three cities, following by 4.01% in Aberdeen, and 2.81% in Dundee. "
   ]
  },
  {
   "cell_type": "markdown",
   "metadata": {},
   "source": [
    "The normalised data reveals a distinct pattern in both Edinburgh and Aberdeen regarding the age groups with the highest asthma patients. Notably, patients age group 50-59 exhibit the highest representation, closely followed by those in the 40-49 and 30-39 age group. Dundee, on the other hand, offers an interesting situation. Although the 50-59 age group is still the highest, it is the 20-29 age group that comes in second place, rather than the 40-49 age group. The 30-39 age group closely follows as well. There appears to be a notable variation in asthma prevalence in Dundee when compared to other cities, indicating potential demographic factors."
   ]
  },
  {
   "cell_type": "markdown",
   "metadata": {},
   "source": [
    "To determine which gender has the highest number of asthma patients, it would be efficient to merge the two datasets into a single CSV file. This will save time when reading the file and allow a deeper examination. Therefore, we have created a function that combines two datasets (female and male) while also incorporating the new age range that was mentioned earlier. When considering the input, we carefully select the necessary columns to effectively reach our ultimate objective of determining the gender with the highest number of asthma patients. We will be focusing on the GP Practice or area, year, age, and total asthma patients. "
   ]
  },
  {
   "cell_type": "code",
   "metadata": {},
   "source": [
    "def combination_csv(female_column, male_column, new_age_range, output_csv=None):\n",
    "    '''\n",
    "    This function is to combine 2 csv files (both feamle and male) which the results will be saved as a new csv. \n",
    "    By doing this, It will save a lot of time if we use different csv files.\n",
    "    \n",
    "    Input:\n",
    "    - Female_column : columns needed from female dataset\n",
    "    - Male_column : columns needed from male dataset\n",
    "    - new_age_range: dictionary of the new age range\n",
    "\n",
    "    Output:\n",
    "    - New CSV files \n",
    "    '''\n",
    "\n",
    "    # Read the CSV data for female and male\n",
    "    female = pd.read_csv('DP Cluster Female.csv', encoding='utf-8', sep=';')\n",
    "    male = pd.read_csv('DP Cluster Male.csv',encoding='utf-8', sep=';')\n",
    "    \n",
    "    # create new variable for each to call specific column in the CSV file\n",
    "    female_columns = female[female_column]\n",
    "    male_columns = male[male_column]\n",
    "\n",
    "    # combined both files into one\n",
    "    combined_2files = pd.concat([female_columns, male_columns], axis=1)\n",
    "\n",
    "    # after combining them, we want to remove some unnecessary parts and rename it\n",
    "\n",
    "    # first: started with the group -> this is to combine both 3 cities\n",
    "    # search in the GP practice a string contains aberdeen, dundee, edinburgh, then replace them with either Aberdeen, Dundee, or Edinburgh\n",
    "    filter_cities = combined_2files['GPPractice/Area'].str.contains('Aberdeen|Dundee|Edinburgh')\n",
    "    combined_2files = combined_2files[filter_cities]\n",
    "    cities = {'.*Edinburgh.*' : 'Edinburgh','.*Aberdeen.*' : 'Aberdeen','.*Dundee.*' : 'Dundee'}\n",
    "    combined_2files['GPPractice/Area'] = combined_2files['GPPractice/Area'].replace(cities, regex= True)\n",
    "    \n",
    "    # next:  filter the years 2019, 2020, 2021, 2022\n",
    "    combined_2files = combined_2files[combined_2files['Year'].isin([2019,2020,2021,2022])]\n",
    "\n",
    "    # next: remove the age with 'All' and replace the rest with the age dictionary \n",
    "    combined_2files = combined_2files[combined_2files['Age'] != 'All']\n",
    "    combined_2files['Age'] = combined_2files['Age'].replace(new_age_range)\n",
    "    \n",
    "    # next: sum the total patients for each age group\n",
    "    combined_2files = combined_2files.groupby(['GPPractice/Area', 'Age'])['PatientCount_Asthma'].sum().reset_index()\n",
    "    \n",
    "    # next: to avoid the misunderstanding as theres 2 same columns name, change the header of each column to a specified gender\n",
    "    combined_2files.columns.values[2] = 'Female Asthma Patients'\n",
    "    combined_2files.columns.values[3] = 'Male Asthma Patients'\n",
    "\n",
    "    # next: save to csv\n",
    "    if output_csv:\n",
    "        combined_2files.to_csv(output_csv, index=False)\n",
    "\n",
    "    return combined_2files\n",
    "\n",
    "# combine both gender, year 2019-2022, in those 3 cities\n",
    "female_column = ['GPPractice/Area', 'Year', 'Age', 'PatientCount_Asthma']\n",
    "male_column = ['PatientCount_Asthma']\n",
    "\n",
    "# save the final csv as 'gender_asthma'\n",
    "gender_asthma = combination_csv (female_column, male_column, new_age_range, output_csv='gender_asthma.csv')"
   ],
   "outputs": [],
   "execution_count": null
  },
  {
   "cell_type": "markdown",
   "metadata": {},
   "source": [
    "In order to understand the disease in more depth, it is imperative to look at the prevalence of asthma in all registered patients at NHS in Edinburgh, Aberdeen and Dundee separately. To achieve this, we compared the total asthma patients to the total registered patients and divided the figures to come up with the percentage of patients affected by asthma out of all the registered patients in the city. \n",
    "\n",
    "Two dataframes were merged for this analysis: \n",
    "\n",
    "1) demographics_2023_q1: This file contains the demographic (age, gender) data for all registered patients in Scotland and divides it amongst the different cities and clusters. \n",
    "2) diseaseprevalence.csv: This file contains data for all reported diseases in Scotland.\n",
    "\n"
   ]
  },
  {
   "cell_type": "markdown",
   "metadata": {},
   "source": [
    "The pie chart below represents the percentage of asthma patients in the three cities. Each slice represents the absolute percentage for each city, and the pie chart as a whole demonstrates a relative comparison across the cities. "
   ]
  },
  {
   "cell_type": "code",
   "metadata": {},
   "source": [
    "# Read the sheet 'Age-Gender' from the demographics excel file\n",
    "total_patients = pd.read_excel(\"https://publichealthscotland.scot/media/22255/demographics_2023_q1.xlsx\", sheet_name = \"Age-Gender\")\n",
    "asthma_patients = pd.read_csv('diseaseprevalence.csv',encoding='utf',usecols=['GPPractice/Area','PatientCount_Asthma'])"
   ],
   "outputs": [],
   "execution_count": null
  },
  {
   "cell_type": "code",
   "metadata": {},
   "source": [
    "# select the clusters from the cities Aberdeen, Dundee and Edinburgh\n",
    "filter_cities = total_patients['Cluster'].str.contains('Aberdeen|Dundee|Edinburgh')\n",
    "# set missing values to false\n",
    "filter_cities[filter_cities.isna()] = False\n",
    "# filter the file based on only the data for the three cities \n",
    "total_patients = total_patients[filter_cities]\n",
    "# change the names of the different clusters to the name of the city using pattern matching and store it in a dictionary\n",
    "cities = {'.*Edinburgh.*' : 'Edinburgh','.*Aberdeen.*' : 'Aberdeen','.*Dundee.*' : 'Dundee'}\n",
    "# replace the cluster names with city names\n",
    "total_patients['Cluster'] = total_patients['Cluster'].replace(cities, regex= True)\n",
    "\n",
    "# select Q3 quarters\n",
    "filter_quarter = total_patients['Quarter'].str.contains('Q3')\n",
    "# set missing values to false\n",
    "filter_quarter[filter_quarter.isna()] = False\n",
    "# remove values for 2018\n",
    "total_patients = total_patients[total_patients['Quarter'] != '2018/19 (Q3) Oct - Dec']\n",
    "# filter the file based on only the data for the three quarters in Edinburgh, Dundee and Aberdeen\n",
    "total_patients = total_patients[filter_quarter]\n",
    "# change the names of the quarters to Q3 (respective year) using pattern matching and store it in a dictionary\n",
    "quarters = {'2019/20 (Q3) Oct - Dec' : 'Q3 2019', '2020/21 (Q3)Oct - Dec' : '  Q3 2020', '2021/22 (Q3)Oct - Dec' : 'Q3 2021', '2022/23 (Q3) Oct - Dec' : 'Q3 2022' }\n",
    "# replace the quarter names\n",
    "total_patients['Quarter'] = total_patients['Quarter'].replace(quarters, regex = True)\n",
    "# sum the total number of patients in the three cities inidividually \n",
    "patient_by_city = total_patients.groupby(['Cluster'])['Total Patients'].sum().reset_index()\n",
    "# sum the total number asthma patients in the three cities individually\n",
    "city_group = asthma_age.groupby('GPPractice/Area')['PatientCount_Asthma'].sum().reset_index()\n",
    "\n",
    "# merge patient by city and city_group to determine total registered patients and total registered asthma patients in the city\n",
    "normalised_asthma_patients = pd.merge(patient_by_city, city_group, left_on='Cluster', right_on='GPPractice/Area')\n",
    "\n",
    "# normalise the number of asthma patients by the total registered patients in the three cities\n",
    "normalised_asthma_patients['Normalized Asthma Patients (%)'] = (normalised_asthma_patients['PatientCount_Asthma'] / normalised_asthma_patients['Total Patients']) * 100\n",
    "# pie chart representing the normalised patients by city and comparing the number across the three cities\n",
    "fig = px.pie(normalised_asthma_patients, values='Normalized Asthma Patients (%)', names='Cluster', title='Prevalence of Asthma in Total Registered Patients')\n",
    "fig.show()\n"
   ],
   "outputs": [],
   "execution_count": null
  },
  {
   "cell_type": "markdown",
   "metadata": {},
   "source": [
    "\n",
    "\n",
    "Edinburgh has the highest number of asthma patients compared to the total registered patients. This can be attributed to the size of the city, as Edinburgh has the highest population out of the three cities [1]. Higher levels of AQI (Air Quality Index) can be seen as a cause of alleviating asthma symptoms [4], however, Aberdeen has the highest AQI compared to  Edinburgh and Dundee [5]. It should be noted that Aberdeen has the lowest number of asthma patients out of total registered patients. \n",
    "\n",
    "Thus, it can be concluded that size of population is the major factor contributing to the increase in the number of patients. \n"
   ]
  },
  {
   "cell_type": "markdown",
   "metadata": {},
   "source": [
    "Next, we analyzed the gender breakdown for the disease. According to Asthma and Allergy Foundation of America, asthma is more common in adult females compared to males [6]. This is attributed to female sex hormones, that lead to poor asthma control [7]. We decided to test this statistic in Edinburgh, Aberdeen and Dundee in Scotland. \n",
    "\n",
    "The number of female/male asthma patients was normalized against the total registered patients to standardize the figures. Additionally, the genders were analyzed separately to compare the figures across the three cities. \n",
    "\n",
    "The first pie chart represents the percentage of female asthma patients in the three cities while the second one represents the figures for the male population. Each slice represents the absolute percentage for each city, and the pie chart as a whole demonstrates a relative comparison across the cities. "
   ]
  },
  {
   "cell_type": "code",
   "metadata": {},
   "source": [
    "# merge patient by city and gender asthma to determine total registered patients and compare it to the genders of the asthma patients\n",
    "normalised_gender = pd.merge(patient_by_city, gender_asthma, left_on='Cluster', right_on='GPPractice/Area')\n",
    "# normalise the number of female asthma patients by the total registered patients in the three cities\n",
    "normalised_gender['Normalized Female Asthma Patients (%)'] = (normalised_gender['Female Asthma Patients'] / normalised_gender['Total Patients']) * 100\n",
    "# pie chart representing the normalised female patients by city and comparing the number across the three cities\n",
    "fig = px.pie(normalised_gender, values='Normalized Female Asthma Patients (%)', names='Cluster', title='Prevalence of Asthma in Total Female Registered Patients')\n",
    "fig.show()\n",
    "\n",
    "# normalise the number of male asthma patients by the total registered patients in the three cities\n",
    "normalised_gender['Normalized Male Asthma Patients (%)'] = (normalised_gender['Male Asthma Patients'] / normalised_gender['Total Patients']) * 100\n",
    "# pie chart representing the normalised male patients by city and comparing the number across the three cities\n",
    "fig = px.pie(normalised_gender, values='Normalized Male Asthma Patients (%)', names='Cluster', title='Prevalence of Asthma in Total Male Registered Patients')\n",
    "fig.show()"
   ],
   "outputs": [],
   "execution_count": null
  },
  {
   "cell_type": "markdown",
   "metadata": {},
   "source": [
    "Asthma is more common in women compared to males as the number of asthma patients is greater across all the three cities. The breakdown of gender across the three cities matches the overall prevalence of the disease with Edinburgh having the highest number of both male and female asthma patients. \n"
   ]
  },
  {
   "cell_type": "markdown",
   "metadata": {},
   "source": [
    "After a thorough examination of the disease, we concluded that the typical asthma patient profile consists of a female within the age range of 50-59. These patients can be found more commonly in Edinburgh compared to Aberdeen or Dundee due to the size of the population. This patient profile can be used by pharmaceutical companies for choosing participants in clinical trials for medicines and treatments being developed for asthma. Moreover, further research can be conducted to determine the cause of increased occurrence in the identified patient profile."
   ]
  },
  {
   "cell_type": "markdown",
   "metadata": {},
   "source": [
    "This reports provides scope for future research on the cause of asthma and its linkage with different factors such as AQI and population density. The spread of respiratory viral infections is increased in more densely populated areas, which can alleviate the symptoms of asthma considerably [8]. Thus, this can be studied in more detail to determine strategies to reduce the spread of respiratory diseases and provide relief to the patients suffering from the chronic disease. "
   ]
  },
  {
   "cell_type": "markdown",
   "metadata": {},
   "source": [
    "Reference List\n",
    "- [1] [Scotland's Cities](https://www.scotland.org/about-scotland/scotlands-cities)\n",
    "- [2] [Respiratory Complications after COVID-19](https://www.ncbi.nlm.nih.gov/pmc/articles/PMC8907756/)\n",
    "- [3] [Plotly Libraries](https://plotly.com/python/)\n",
    "- [4] [Air Pollution and Asthma](https://www.aaaai.org/tools-for-the-public/conditions-library/asthma/your-questions-answered-on-air-pollution-and-asthm#%253A~%253Atext%253DAir%2520pollution%2520is%2520made%2520up%252Cabove%2520101%2520is%2520considered%2520dangerous.)\n",
    "- [5] [Air Quality Index by City](https://www.iqair.com/gb/)\n",
    "- [6] [Asthma and Allergy Foundation of America](https://aafa.org/asthma/asthma-facts/#%253A~%253Atext%253DAsthma%2520is%2520more%2520common%2520in%252Cto%25206.5%2525%2520of%2520male%2520adults.%2526text%253DIt%2520is%2520a%2520leading%2520chronic%2520disease%2520in%2520children.%2526text%253DCurrently%252C%2520there%2520are%2520about%25204.5%252Cage%2520of%252018%2520with%2520asthma.)\n",
    "- [7] [The Journal of Allergy and Clinical Immunology: In Practice](https://www.jaci-inpractice.org/article/S2213-2198%252822%252900124-6/fulltext#%253A~%253Atext%253DThe%2520physiologic%2520development%2520of%2520the%252Cassociated%2520with%2520poor%2520asthma%2520control.)\n",
    "- [8] [ASTHMA + LUNG UK](https://www.asthmaandlung.org.uk/conditions/asthma/asthma-triggers/colds-flu#%253A~%253Atext%253DColds%2520and%2520flu%2520are%2520the%252Cthat%2520could%2520be%2520life-threatening.)\n"
   ]
  }
 ],
 "metadata": {
  "kernelspec": {
   "display_name": "Python 3 (ipykernel)",
   "language": "python",
   "name": "python3"
  },
  "language_info": {
   "codemirror_mode": {
    "name": "ipython",
    "version": 3
   },
   "file_extension": ".py",
   "mimetype": "text/x-python",
   "name": "python",
   "nbconvert_exporter": "python",
   "pygments_lexer": "ipython3",
   "version": "3.10.10"
  }
 },
 "nbformat": 4,
 "nbformat_minor": 4
}
